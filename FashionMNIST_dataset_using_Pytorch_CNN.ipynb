{
  "nbformat": 4,
  "nbformat_minor": 0,
  "metadata": {
    "colab": {
      "provenance": []
    },
    "kernelspec": {
      "name": "python3",
      "display_name": "Python 3"
    },
    "language_info": {
      "name": "python"
    }
  },
  "cells": [
    {
      "cell_type": "markdown",
      "source": [
        "# FashionMNIST dataset using Pytorch"
      ],
      "metadata": {
        "id": "atAt1sPp4pdm"
      }
    },
    {
      "cell_type": "markdown",
      "source": [
        "**Importing Libraries**"
      ],
      "metadata": {
        "id": "tNEsm-jw57xS"
      }
    },
    {
      "cell_type": "markdown",
      "source": [
        "\n",
        "\n",
        "- `import pandas as pd`: Imports the pandas library and aliases it as `pd`, commonly used for data manipulation and analysis.\n",
        "- `import numpy as np`: Imports the NumPy library and aliases it as `np`, which provides support for numerical computations and array operations.\n",
        "- `import matplotlib.pyplot as plt`: Imports the matplotlib library, specifically the pyplot module, and aliases it as `plt`. This allows for data visualization, such as plotting graphs and charts.\n",
        "- `import torch`: Imports the PyTorch library, an open-source machine learning framework.\n",
        "- `import torch.nn as nn`: Imports the neural network module (`nn`) from PyTorch, which provides tools for building neural networks.\n",
        "- `from torch.autograd import Variable`: Imports the `Variable` class from `torch.autograd`, which is used to wrap tensor inputs to enable automatic differentiation for gradient computation in PyTorch.\n",
        "- `import torchvision`: Imports the `torchvision` library, which provides access to datasets, models, and transformations for computer vision tasks in PyTorch.\n",
        "- `import torchvision.transforms as transforms`: Imports the `transforms` module from `torchvision`, which contains common image transformations.\n",
        "- `from torch.utils.data import Dataset, DataLoader`: Imports the `Dataset` and `DataLoader` classes from `torch.utils.data`, used for managing datasets and creating data loaders for efficient data handling during training.\n",
        "- `from sklearn.metrics import confusion_matrix`: Imports the `confusion_matrix` function from the `sklearn.metrics` module, which is commonly used for evaluating the performance of classification models by comparing predicted and true labels."
      ],
      "metadata": {
        "id": "7aVSbLX2SVhZ"
      }
    },
    {
      "cell_type": "code",
      "execution_count": 41,
      "metadata": {
        "id": "0n_zJl771cO4"
      },
      "outputs": [],
      "source": [
        "import pandas as pd\n",
        "import numpy as np\n",
        "import matplotlib.pyplot as plt\n",
        "\n",
        "import torch\n",
        "import torch.nn as nn\n",
        "from torch.autograd import Variable\n",
        "\n",
        "import torchvision\n",
        "import torchvision.transforms as transforms\n",
        "from torch.utils.data import Dataset, DataLoader\n",
        "from sklearn.metrics import confusion_matrix"
      ]
    },
    {
      "cell_type": "markdown",
      "source": [
        "If the GPU is available use it for the computation otherwise use the CPU."
      ],
      "metadata": {
        "id": "GHjXd2SM8qws"
      }
    },
    {
      "cell_type": "code",
      "source": [
        "device = torch.device(\"cuda:0\" if torch.cuda.is_available() else \"cpu\")"
      ],
      "metadata": {
        "id": "1h-DRzWZ8rle"
      },
      "execution_count": 42,
      "outputs": []
    },
    {
      "cell_type": "code",
      "source": [
        "train_data = pd.read_csv(\"/content/fashion-mnist_train.csv\")\n",
        "test_data = pd.read_csv(\"/content/fashion-mnist_test.csv\")"
      ],
      "metadata": {
        "id": "7qY6vqEm8zP4"
      },
      "execution_count": 43,
      "outputs": []
    },
    {
      "cell_type": "code",
      "source": [
        "len(train_data)"
      ],
      "metadata": {
        "colab": {
          "base_uri": "https://localhost:8080/"
        },
        "id": "nyhy28p_2Z1T",
        "outputId": "071e7833-2f95-4fd4-8480-4f5eab24ac5e"
      },
      "execution_count": 44,
      "outputs": [
        {
          "output_type": "execute_result",
          "data": {
            "text/plain": [
              "60000"
            ]
          },
          "metadata": {},
          "execution_count": 44
        }
      ]
    },
    {
      "cell_type": "code",
      "source": [
        "class FashionDataset(Dataset):\n",
        "    \"\"\"User defined class to build a dataset using Pytorch class Dataset.\"\"\"\n",
        "\n",
        "    def __init__(self, data, transform = None):\n",
        "        \"\"\"Method to initilaize variables.\"\"\"\n",
        "        self.fashion_MNIST = list(data.values)\n",
        "        self.transform = transform\n",
        "\n",
        "        label = []\n",
        "        image = []\n",
        "\n",
        "        for i in self.fashion_MNIST:\n",
        "             # first column is of labels.\n",
        "            label.append(i[0])\n",
        "            image.append(i[1:])\n",
        "        self.labels = np.asarray(label)\n",
        "        # Dimension of Images = 28 * 28 * 1. where height = width = 28 and color_channels = 1.\n",
        "        self.images = np.asarray(image).reshape(-1, 28, 28, 1).astype('float32')\n",
        "\n",
        "    def __getitem__(self, index):\n",
        "        label = self.labels[index]\n",
        "        image = self.images[index]\n",
        "\n",
        "        if self.transform is not None:\n",
        "            image = self.transform(image)\n",
        "\n",
        "        return image, label\n",
        "\n",
        "    def __len__(self):\n",
        "        return len(self.images)"
      ],
      "metadata": {
        "id": "rMn9RHg89N8Z"
      },
      "execution_count": 45,
      "outputs": []
    },
    {
      "cell_type": "markdown",
      "source": [
        "Tensors don't always have a range from 0 to 1. The range of values in a tensor depends on how it was created or manipulated. In many cases, tensors are normalized to have values within a certain range, such as 0 to 1 or -1 to 1, for numerical stability and better performance during training in deep learning models. However, this normalization is not mandatory and depends on the specific requirements of the model and the data being used.\n",
        "\n",
        "Normalization to the range of 0 to 1 is often applied to input data, especially in image processing tasks, where pixel values are typically in the range of 0 to 255 for images with 8-bit color depth. Dividing the pixel values by 255 scales them to the range of 0 to 1.\n",
        "\n",
        "**In PyTorch, you can normalize a tensor to the range of 0 to 1 using the `torchvision.transforms.ToTensor()` transformation** when loading data. Additionally, you can apply custom normalization by dividing the tensor by its maximum value or using other scaling techniques depending on the context of your application."
      ],
      "metadata": {
        "id": "CcHMT9SHTHCa"
      }
    },
    {
      "cell_type": "code",
      "source": [
        "# Transform data into Tensor that has a range from 0 to 1\n",
        "train_set = FashionDataset(train_data, transform=transforms.Compose([transforms.ToTensor()]))\n",
        "test_set = FashionDataset(test_data, transform=transforms.Compose([transforms.ToTensor()]))\n",
        "\n",
        "train_loader = DataLoader(train_set, batch_size=100)\n",
        "test_loader = DataLoader(train_set, batch_size=100)"
      ],
      "metadata": {
        "id": "bmpewsqiAd7p"
      },
      "execution_count": 46,
      "outputs": []
    },
    {
      "cell_type": "code",
      "source": [
        "len(train_loader)"
      ],
      "metadata": {
        "colab": {
          "base_uri": "https://localhost:8080/"
        },
        "id": "42Up1tZw3Eb8",
        "outputId": "4f89268c-c738-483c-f289-6bab757e0d55"
      },
      "execution_count": 47,
      "outputs": [
        {
          "output_type": "execute_result",
          "data": {
            "text/plain": [
              "600"
            ]
          },
          "metadata": {},
          "execution_count": 47
        }
      ]
    },
    {
      "cell_type": "markdown",
      "source": [
        "1. We have 10 types of clothes in FashionMNIST dataset.\n",
        "2. Making a method that return the name of class for the label number. ex. if the label is 5, we return Sandal."
      ],
      "metadata": {
        "id": "7dQuTxDEFjon"
      }
    },
    {
      "cell_type": "code",
      "source": [
        "def output_label(label):\n",
        "    output_mapping = {\n",
        "                 0: \"T-shirt/Top\",\n",
        "                 1: \"Trouser\",\n",
        "                 2: \"Pullover\",\n",
        "                 3: \"Dress\",\n",
        "                 4: \"Coat\",\n",
        "                 5: \"Sandal\",\n",
        "                 6: \"Shirt\",\n",
        "                 7: \"Sneaker\",\n",
        "                 8: \"Bag\",\n",
        "                 9: \"Ankle Boot\"\n",
        "                 }\n",
        "    input = (label.item() if type(label) == torch.Tensor else label)\n",
        "    return output_mapping[input]"
      ],
      "metadata": {
        "id": "Du86BZs2FoIn"
      },
      "execution_count": 48,
      "outputs": []
    },
    {
      "cell_type": "markdown",
      "source": [
        "Playing with data and displaying some images using matplotlib imshow() method."
      ],
      "metadata": {
        "id": "P20d6aU6FyKk"
      }
    },
    {
      "cell_type": "markdown",
      "source": [
        "The code `a = next(iter(train_loader))` is typically used in PyTorch to extract the next batch of data from a `DataLoader` object during iteration. Here's a breakdown of what each part of the code does:\n",
        "\n",
        "- `train_loader`: This is a `DataLoader` object that contains your training dataset. It is typically created using the `DataLoader` class provided by PyTorch and is responsible for managing the data loading process, such as shuffling the data, creating batches, and loading the data in parallel processes.\n",
        "\n",
        "- `iter(train_loader)`: This creates an iterator from the `train_loader` object, allowing you to iterate over the batches of data contained within the loader.\n",
        "\n",
        "- `next(...)`: This function is used to retrieve the next element from the iterator. In this case, it retrieves the next batch of data from the `train_loader`.\n",
        "\n",
        "- `a = ...`: This assigns the retrieved batch of data to the variable `a`.\n",
        "\n",
        "So, after executing this code, `a` will contain the next batch of data from your training dataset, which you can then use for training your neural network model. Each element of `a` typically consists of input data (e.g., images) and their corresponding labels, organized as tensors or arrays, depending on how you've processed your data."
      ],
      "metadata": {
        "id": "hpsCrSYQVxWl"
      }
    },
    {
      "cell_type": "code",
      "source": [
        "a = next(iter(train_loader))\n",
        "a[0].size()"
      ],
      "metadata": {
        "colab": {
          "base_uri": "https://localhost:8080/"
        },
        "id": "iF5V9XbUFq8N",
        "outputId": "b92d5dc2-453f-44ca-b0f7-c52bcc63b161"
      },
      "execution_count": 49,
      "outputs": [
        {
          "output_type": "execute_result",
          "data": {
            "text/plain": [
              "torch.Size([100, 1, 28, 28])"
            ]
          },
          "metadata": {},
          "execution_count": 49
        }
      ]
    },
    {
      "cell_type": "markdown",
      "source": [
        "len(a)  # Print the length of the batch\n",
        "(a[0].shape) # Print the shape of the input data in the batch\n",
        "(a[1])  # Print the labels or target values in the batch"
      ],
      "metadata": {
        "id": "VRKHcrmiWEER"
      }
    },
    {
      "cell_type": "code",
      "source": [
        "len(train_set)"
      ],
      "metadata": {
        "colab": {
          "base_uri": "https://localhost:8080/"
        },
        "id": "mUydZaSIF3A7",
        "outputId": "c4fbf961-325e-4817-cb15-c390e169758f"
      },
      "execution_count": 50,
      "outputs": [
        {
          "output_type": "execute_result",
          "data": {
            "text/plain": [
              "60000"
            ]
          },
          "metadata": {},
          "execution_count": 50
        }
      ]
    },
    {
      "cell_type": "code",
      "source": [
        "image, label = next(iter(train_set))\n",
        "plt.imshow(image.squeeze(), cmap=\"gray\")\n",
        "print(label)"
      ],
      "metadata": {
        "colab": {
          "base_uri": "https://localhost:8080/",
          "height": 447
        },
        "id": "TRuExLVQF5uQ",
        "outputId": "5b864237-dc52-4be6-f681-e8410eb04da4"
      },
      "execution_count": 51,
      "outputs": [
        {
          "output_type": "stream",
          "name": "stdout",
          "text": [
            "2\n"
          ]
        },
        {
          "output_type": "display_data",
          "data": {
            "text/plain": [
              "<Figure size 640x480 with 1 Axes>"
            ],
            "image/png": "[encoded data removed]"
          },
          "metadata": {}
        }
      ]
    },
    {
      "cell_type": "code",
      "source": [
        "demo_loader = torch.utils.data.DataLoader(train_set, batch_size=10)\n",
        "\n",
        "batch = next(iter(demo_loader))\n",
        "images, labels = batch\n",
        "print(type(images), type(labels))\n",
        "print(images.shape, labels.shape)"
      ],
      "metadata": {
        "colab": {
          "base_uri": "https://localhost:8080/"
        },
        "id": "8Oj7j3OxF75a",
        "outputId": "d943b190-5266-4692-8c0a-cb8dfc33cb29"
      },
      "execution_count": 52,
      "outputs": [
        {
          "output_type": "stream",
          "name": "stdout",
          "text": [
            "<class 'torch.Tensor'> <class 'torch.Tensor'>\n",
            "torch.Size([10, 1, 28, 28]) torch.Size([10])\n"
          ]
        }
      ]
    },
    {
      "cell_type": "code",
      "source": [
        "grid = torchvision.utils.make_grid(images, nrow=10)\n",
        "\n",
        "plt.figure(figsize=(15, 20))\n",
        "plt.imshow(np.transpose(grid, (1, 2, 0)))\n",
        "print(\"labels: \", end=\" \")\n",
        "for i, label in enumerate(labels):\n",
        "    print(output_label(label), end=\", \")\n"
      ],
      "metadata": {
        "colab": {
          "base_uri": "https://localhost:8080/",
          "height": 222
        },
        "id": "xzPV8YXwGXHl",
        "outputId": "29884237-e7bf-4e14-9a20-88c98f5f9ccf"
      },
      "execution_count": 53,
      "outputs": [
        {
          "output_type": "stream",
          "name": "stderr",
          "text": [
            "WARNING:matplotlib.image:Clipping input data to the valid range for imshow with RGB data ([0..1] for floats or [0..255] for integers).\n"
          ]
        },
        {
          "output_type": "stream",
          "name": "stdout",
          "text": [
            "labels:  Pullover, Ankle Boot, Shirt, T-shirt/Top, Dress, Coat, Coat, Sandal, Coat, Bag, "
          ]
        },
        {
          "output_type": "display_data",
          "data": {
            "text/plain": [
              "<Figure size 1500x2000 with 1 Axes>"
            ],
            "image/png": "[encoded data removed]"
          },
          "metadata": {}
        }
      ]
    },
    {
      "cell_type": "markdown",
      "source": [
        "# **CNN**"
      ],
      "metadata": {
        "id": "tEpACtHM3kx-"
      }
    },
    {
      "cell_type": "markdown",
      "source": [
        "*   Make a model class (FashionCNN in our case)\n",
        "    * It inherit nn.Module class that is a super class for all the neural networks in Pytorch.\n",
        "* Our Neural Net has following layers:\n",
        "    * Two Sequential layers each consists of following layers-\n",
        "        * Convolution layer that has kernel size of 3 * 3, padding = 1 (zero_padding) in 1st layer and padding = 0 in second one. Stride of 1 in both layer.\n",
        "        * Batch Normalization layer.\n",
        "        * Acitvation function: ReLU.\n",
        "        * Max Pooling layer with kernel size of 2 * 2 and stride 2.\n",
        "     * Flatten out the output for dense layer(a.k.a. fully connected layer).\n",
        "     * 3 Fully connected layer  with different in/out features.\n",
        "     * 1 Dropout layer that has class probability p = 0.25.\n",
        "  \n",
        "     * All the functionaltiy is given in forward method that defines the forward pass of CNN.\n",
        "     * Our input image is changing in a following way:\n",
        "        * First Convulation layer : input: 28 \\* 28 \\* 3, output: 28 \\* 28 \\* 32\n",
        "        * First Max Pooling layer : input: 28 \\* 28 \\* 32, output: 14 \\* 14 \\* 32\n",
        "        * Second Conv layer : input : 14 \\* 14 \\* 32, output: 12 \\* 12 \\* 64\n",
        "        * Second Max Pooling layer : 12 \\* 12 \\* 64, output:  6 \\* 6 \\* 64\n",
        "    * Final fully connected layer has 10 output features for 10 types of clothes.\n",
        "\n",
        "> Lets implementing the network...\n",
        "\n",
        "\n",
        "\n"
      ],
      "metadata": {
        "id": "BFDRepJX3klN"
      }
    },
    {
      "cell_type": "code",
      "source": [
        "class FashionCNN(nn.Module):\n",
        "\n",
        "    def __init__(self):\n",
        "        super(FashionCNN, self).__init__()\n",
        "\n",
        "        self.layer1 = nn.Sequential(\n",
        "            nn.Conv2d(in_channels=1, out_channels=32, kernel_size=3, padding=1),\n",
        "            nn.BatchNorm2d(32),\n",
        "            nn.ReLU(),\n",
        "            nn.MaxPool2d(kernel_size=2, stride=2)\n",
        "        )\n",
        "\n",
        "        self.layer2 = nn.Sequential(\n",
        "            nn.Conv2d(in_channels=32, out_channels=64, kernel_size=3),\n",
        "            nn.BatchNorm2d(64),\n",
        "            nn.ReLU(),\n",
        "            nn.MaxPool2d(2)\n",
        "        )\n",
        "\n",
        "        self.fc1 = nn.Linear(in_features=64*6*6, out_features=600)\n",
        "        self.drop = nn.Dropout2d(0.25)\n",
        "        self.fc2 = nn.Linear(in_features=600, out_features=120)\n",
        "        self.fc3 = nn.Linear(in_features=120, out_features=10)\n",
        "\n",
        "    def forward(self, x):\n",
        "        out = self.layer1(x)\n",
        "        out = self.layer2(out)\n",
        "        out = out.view(out.size(0), -1)\n",
        "        out = self.fc1(out)\n",
        "        out = self.drop(out)\n",
        "        out = self.fc2(out)\n",
        "        out = self.fc3(out)\n",
        "\n",
        "        return out\n"
      ],
      "metadata": {
        "id": "H8BHCuDoGZ8O"
      },
      "execution_count": 54,
      "outputs": []
    },
    {
      "cell_type": "markdown",
      "source": [
        "### Making a model of our CNN class\n",
        "\n",
        "*   Creating a object(model in the code)\n",
        "*   Transfering it into GPU if available.\n",
        "*  Defining a Loss function. we're using CrossEntropyLoss() here.\n",
        "*  Using Adam algorithm for optimization purpose.\n",
        "\n"
      ],
      "metadata": {
        "id": "1MUG0xTo5Dik"
      }
    },
    {
      "cell_type": "code",
      "source": [
        "model = FashionCNN()\n",
        "model.to(device)\n",
        "\n",
        "error = nn.CrossEntropyLoss()\n",
        "\n",
        "learning_rate = 0.001\n",
        "optimizer = torch.optim.Adam(model.parameters(), lr=learning_rate)\n",
        "print(model)"
      ],
      "metadata": {
        "colab": {
          "base_uri": "https://localhost:8080/"
        },
        "id": "gm4WCHfh5Ecl",
        "outputId": "10c34108-a1d7-49f9-f814-f86a07a83ddf"
      },
      "execution_count": 55,
      "outputs": [
        {
          "output_type": "stream",
          "name": "stdout",
          "text": [
            "FashionCNN(\n",
            "  (layer1): Sequential(\n",
            "    (0): Conv2d(1, 32, kernel_size=(3, 3), stride=(1, 1), padding=(1, 1))\n",
            "    (1): BatchNorm2d(32, eps=1e-05, momentum=0.1, affine=True, track_running_stats=True)\n",
            "    (2): ReLU()\n",
            "    (3): MaxPool2d(kernel_size=2, stride=2, padding=0, dilation=1, ceil_mode=False)\n",
            "  )\n",
            "  (layer2): Sequential(\n",
            "    (0): Conv2d(32, 64, kernel_size=(3, 3), stride=(1, 1))\n",
            "    (1): BatchNorm2d(64, eps=1e-05, momentum=0.1, affine=True, track_running_stats=True)\n",
            "    (2): ReLU()\n",
            "    (3): MaxPool2d(kernel_size=2, stride=2, padding=0, dilation=1, ceil_mode=False)\n",
            "  )\n",
            "  (fc1): Linear(in_features=2304, out_features=600, bias=True)\n",
            "  (drop): Dropout2d(p=0.25, inplace=False)\n",
            "  (fc2): Linear(in_features=600, out_features=120, bias=True)\n",
            "  (fc3): Linear(in_features=120, out_features=10, bias=True)\n",
            ")\n"
          ]
        }
      ]
    },
    {
      "cell_type": "markdown",
      "source": [
        "## Training a network and Testing it on test dataset"
      ],
      "metadata": {
        "id": "nH93MqUn5Vbm"
      }
    },
    {
      "cell_type": "code",
      "source": [
        "num_epochs = 5\n",
        "count = 0\n",
        "# Lists for visualization of loss and accuracy\n",
        "loss_list = []\n",
        "iteration_list = []\n",
        "accuracy_list = []\n",
        "\n",
        "# Lists for knowing classwise accuracy\n",
        "predictions_list = []\n",
        "labels_list = []\n",
        "\n",
        "for epoch in range(num_epochs):\n",
        "    for images, labels in train_loader:\n",
        "        # Transfering images and labels to GPU if available\n",
        "        images, labels = images.to(device), labels.to(device)\n",
        "\n",
        "        train = Variable(images.view(100, 1, 28, 28))\n",
        "        labels = Variable(labels)\n",
        "\n",
        "        # Forward pass\n",
        "        outputs = model(train)\n",
        "        loss = error(outputs, labels.long())\n",
        "\n",
        "        # Initializing a gradient as 0 so there is no mixing of gradient among the batches\n",
        "        optimizer.zero_grad()\n",
        "\n",
        "        #Propagating the error backward\n",
        "        loss.backward()\n",
        "\n",
        "        # Optimizing the parameters\n",
        "        optimizer.step()\n",
        "\n",
        "        count += 1\n",
        "\n",
        "    # Testing the model\n",
        "\n",
        "        if not (count % 50):    # It's same as \"if count % 50 == 0\"\n",
        "            total = 0\n",
        "            correct = 0\n",
        "\n",
        "            for images, labels in test_loader:\n",
        "                images, labels = images.to(device), labels.to(device)\n",
        "                labels_list.append(labels)\n",
        "\n",
        "                test = Variable(images.view(100, 1, 28, 28))\n",
        "\n",
        "                outputs = model(test)\n",
        "\n",
        "                predictions = torch.max(outputs, 1)[1].to(device)\n",
        "                predictions_list.append(predictions)\n",
        "                correct += (predictions == labels).sum()\n",
        "\n",
        "                total += len(labels)\n",
        "\n",
        "            accuracy = correct * 100 / total\n",
        "            loss_list.append(loss.data)\n",
        "            iteration_list.append(count)\n",
        "            accuracy_list.append(accuracy)\n",
        "\n",
        "        if not (count % 500):\n",
        "            print(\"Iteration: {}, Loss: {}, Accuracy: {}%\".format(count, loss.data, accuracy))\n"
      ],
      "metadata": {
        "colab": {
          "base_uri": "https://localhost:8080/"
        },
        "id": "0j09ZXIm5WWN",
        "outputId": "dc10456b-2d61-4d44-da66-e5b2c2fc5ef5"
      },
      "execution_count": 56,
      "outputs": [
        {
          "output_type": "stream",
          "name": "stderr",
          "text": [
            "/usr/local/lib/python3.10/dist-packages/torch/nn/functional.py:1347: UserWarning: dropout2d: Received a 2-D input to dropout2d, which is deprecated and will result in an error in a future release. To retain the behavior and silence this warning, please use dropout instead. Note that dropout2d exists to provide channel-wise dropout on inputs with 2 spatial dimensions, a channel dimension, and an optional batch dimension (i.e. 3D or 4D inputs).\n",
            "  warnings.warn(warn_msg)\n"
          ]
        },
        {
          "output_type": "stream",
          "name": "stdout",
          "text": [
            "Iteration: 500, Loss: 0.5195703506469727, Accuracy: 87.58999633789062%\n",
            "Iteration: 1000, Loss: 0.25709474086761475, Accuracy: 90.2933349609375%\n",
            "Iteration: 1500, Loss: 0.253013551235199, Accuracy: 90.49500274658203%\n",
            "Iteration: 2000, Loss: 0.24763289093971252, Accuracy: 91.90499877929688%\n",
            "Iteration: 2500, Loss: 0.20219749212265015, Accuracy: 92.50499725341797%\n",
            "Iteration: 3000, Loss: 0.2037147581577301, Accuracy: 93.47666931152344%\n"
          ]
        }
      ]
    },
    {
      "cell_type": "markdown",
      "source": [
        "### Visualizing the Loss and Accuracy with Iterations"
      ],
      "metadata": {
        "id": "abhfxuelGDWY"
      }
    },
    {
      "cell_type": "code",
      "source": [
        "plt.plot(iteration_list, loss_list)\n",
        "plt.xlabel(\"No. of Iteration\")\n",
        "plt.ylabel(\"Loss\")\n",
        "plt.title(\"Iterations vs Loss\")\n",
        "plt.show()"
      ],
      "metadata": {
        "colab": {
          "base_uri": "https://localhost:8080/",
          "height": 472
        },
        "id": "QeFfhN2pGA5a",
        "outputId": "ca65176a-8100-4a79-d8ac-d1bf53d0aafc"
      },
      "execution_count": 57,
      "outputs": [
        {
          "output_type": "display_data",
          "data": {
            "text/plain": [
              "<Figure size 640x480 with 1 Axes>"
            ],
            "image/png": "[encoded data removed]"
          },
          "metadata": {}
        }
      ]
    },
    {
      "cell_type": "code",
      "source": [
        "plt.plot(iteration_list, accuracy_list)\n",
        "plt.xlabel(\"No. of Iteration\")\n",
        "plt.ylabel(\"Accuracy\")\n",
        "plt.title(\"Iterations vs Accuracy\")\n",
        "plt.show()"
      ],
      "metadata": {
        "colab": {
          "base_uri": "https://localhost:8080/",
          "height": 472
        },
        "id": "MgSdW8QpGKmN",
        "outputId": "6597ac19-47fe-432f-ab18-ae329ad1fd7c"
      },
      "execution_count": 58,
      "outputs": [
        {
          "output_type": "display_data",
          "data": {
            "text/plain": [
              "<Figure size 640x480 with 1 Axes>"
            ],
            "image/png": "[encoded data removed]"
          },
          "metadata": {}
        }
      ]
    },
    {
      "cell_type": "markdown",
      "source": [
        "### Looking the Accuracy in each class of FashionMNIST dataset"
      ],
      "metadata": {
        "id": "Ir_CSPsZGM_l"
      }
    },
    {
      "cell_type": "code",
      "source": [
        "class_correct = [0. for _ in range(10)]\n",
        "total_correct = [0. for _ in range(10)]\n",
        "\n",
        "with torch.no_grad():\n",
        "    for images, labels in test_loader:\n",
        "        images, labels = images.to(device), labels.to(device)\n",
        "        test = Variable(images)\n",
        "        outputs = model(test)\n",
        "        predicted = torch.max(outputs, 1)[1]\n",
        "        c = (predicted == labels).squeeze()\n",
        "\n",
        "        for i in range(100):\n",
        "            label = labels[i]\n",
        "            class_correct[label] += c[i].item()\n",
        "            total_correct[label] += 1\n",
        "\n",
        "for i in range(10):\n",
        "    print(\"Accuracy of {}: {:.2f}%\".format(output_label(i), class_correct[i] * 100 / total_correct[i]))"
      ],
      "metadata": {
        "colab": {
          "base_uri": "https://localhost:8080/"
        },
        "id": "39eB_VQ_GNkj",
        "outputId": "f0d88edb-99a5-408b-c42d-06a8da7ef07a"
      },
      "execution_count": 59,
      "outputs": [
        {
          "output_type": "stream",
          "name": "stdout",
          "text": [
            "Accuracy of T-shirt/Top: 83.62%\n",
            "Accuracy of Trouser: 99.17%\n",
            "Accuracy of Pullover: 87.72%\n",
            "Accuracy of Dress: 95.47%\n",
            "Accuracy of Coat: 91.95%\n",
            "Accuracy of Sandal: 98.87%\n",
            "Accuracy of Shirt: 83.55%\n",
            "Accuracy of Sneaker: 96.12%\n",
            "Accuracy of Bag: 99.58%\n",
            "Accuracy of Ankle Boot: 98.92%\n"
          ]
        }
      ]
    },
    {
      "cell_type": "markdown",
      "source": [
        "### Printing the Confusion Matrix"
      ],
      "metadata": {
        "id": "-U7SN0BKGS1w"
      }
    },
    {
      "cell_type": "code",
      "source": [
        "from itertools import chain\n",
        "\n",
        "predictions_l = [predictions_list[i].tolist() for i in range(len(predictions_list))]\n",
        "labels_l = [labels_list[i].tolist() for i in range(len(labels_list))]\n",
        "predictions_l = list(chain.from_iterable(predictions_l))\n",
        "labels_l = list(chain.from_iterable(labels_l))"
      ],
      "metadata": {
        "id": "fiWGywsQGSL3"
      },
      "execution_count": 60,
      "outputs": []
    },
    {
      "cell_type": "code",
      "source": [
        "import sklearn.metrics as metrics\n",
        "\n",
        "confusion_matrix(labels_l, predictions_l)\n",
        "print(\"Classification report for CNN :\\n%s\\n\"\n",
        "      % (metrics.classification_report(labels_l, predictions_l)))"
      ],
      "metadata": {
        "colab": {
          "base_uri": "https://localhost:8080/"
        },
        "id": "l2utKfLjGYII",
        "outputId": "63b63268-ee54-429e-f0d4-9afe274343dc"
      },
      "execution_count": 61,
      "outputs": [
        {
          "output_type": "stream",
          "name": "stdout",
          "text": [
            "Classification report for CNN :\n",
            "              precision    recall  f1-score   support\n",
            "\n",
            "           0       0.85      0.84      0.85    360000\n",
            "           1       0.99      0.98      0.98    360000\n",
            "           2       0.85      0.86      0.85    360000\n",
            "           3       0.89      0.91      0.90    360000\n",
            "           4       0.84      0.83      0.84    360000\n",
            "           5       0.97      0.97      0.97    360000\n",
            "           6       0.74      0.73      0.73    360000\n",
            "           7       0.95      0.95      0.95    360000\n",
            "           8       0.98      0.98      0.98    360000\n",
            "           9       0.96      0.96      0.96    360000\n",
            "\n",
            "    accuracy                           0.90   3600000\n",
            "   macro avg       0.90      0.90      0.90   3600000\n",
            "weighted avg       0.90      0.90      0.90   3600000\n",
            "\n",
            "\n"
          ]
        }
      ]
    },
    {
      "cell_type": "markdown",
      "source": [
        "93% test accuracy"
      ],
      "metadata": {
        "id": "4MFM4jOwGeN8"
      }
    }
  ]
}